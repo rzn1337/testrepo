{
 "cells": [
  {
   "cell_type": "markdown",
   "id": "a7b2e576-bf78-4af3-9336-b7d130aaa778",
   "metadata": {},
   "source": [
    "## My Jupyter Notebook\n"
   ]
  },
  {
   "cell_type": "markdown",
   "id": "d709fd82-9096-46a7-a9a2-7d5ef830b6cd",
   "metadata": {},
   "source": [
    "**Syed Ali Rizwan**"
   ]
  },
  {
   "cell_type": "markdown",
   "id": "3d35730d-0fda-4c64-b297-0aff6b5a5c08",
   "metadata": {},
   "source": [
    "I would want to be a Data Scientist in the future."
   ]
  },
  {
   "cell_type": "markdown",
   "id": "ef0e508e-d654-4fca-a8f3-6e35911e22b5",
   "metadata": {},
   "source": [
    "*I am interested in data science because this field of study has the potential to bring numerous positive amendments to our world.*"
   ]
  },
  {
   "cell_type": "markdown",
   "id": "d7166aa5-0813-48cf-abb0-969423b33177",
   "metadata": {},
   "source": [
    "### The following code multiplies the two numbers and outputs the result"
   ]
  },
  {
   "cell_type": "code",
   "execution_count": 9,
   "id": "76828a36-e192-43cf-90a2-db924e3cf226",
   "metadata": {},
   "outputs": [
    {
     "name": "stdout",
     "output_type": "stream",
     "text": [
      "Your product is: 500\n"
     ]
    }
   ],
   "source": [
    "x = 50 * 10\n",
    "print('Your product is: ' + str(x))"
   ]
  },
  {
   "cell_type": "markdown",
   "id": "0aae50be-acc5-458a-bc63-a16f914c8912",
   "metadata": {},
   "source": [
    "* Cat\n",
    "* Dog\n",
    "* Donkey\n",
    "* Tortoise"
   ]
  },
  {
   "cell_type": "code",
   "execution_count": null,
   "id": "d3deb096-c544-47a3-8a1c-0880b01c2e0f",
   "metadata": {},
   "outputs": [],
   "source": []
  }
 ],
 "metadata": {
  "kernelspec": {
   "display_name": "Python",
   "language": "python",
   "name": "conda-env-python-py"
  },
  "language_info": {
   "codemirror_mode": {
    "name": "ipython",
    "version": 3
   },
   "file_extension": ".py",
   "mimetype": "text/x-python",
   "name": "python",
   "nbconvert_exporter": "python",
   "pygments_lexer": "ipython3",
   "version": "3.7.12"
  }
 },
 "nbformat": 4,
 "nbformat_minor": 5
}
